{
 "cells": [
  {
   "cell_type": "markdown",
   "id": "cb74ae2e",
   "metadata": {},
   "source": [
    "# Panorama\n",
    "\n",
    "int - Integer/Enteros\n",
    "\n",
    "float - Float/Numeros con Decimales\n",
    "\n",
    "complex - Complex/Complejos (Numeros con una parte real y una imaginaria)\n",
    "\n",
    "bool - Boolean (True/False) / Valores Logicos (Verdadero/Falso)\n",
    "\n",
    "str - Strings/Cadenas, Textos"
   ]
  },
  {
   "cell_type": "markdown",
   "id": "7da8a739",
   "metadata": {},
   "source": [
    "# int- Integers/Enteros"
   ]
  },
  {
   "cell_type": "code",
   "execution_count": 1,
   "id": "eb9b55d9",
   "metadata": {},
   "outputs": [
    {
     "name": "stdout",
     "output_type": "stream",
     "text": [
      "El valor de my_integer es:  11\n",
      "El tipo de dato de my_integer es:  <class 'int'>\n"
     ]
    }
   ],
   "source": [
    "my_integer = 11\n",
    "print(\"El valor de my_integer es: \", my_integer)\n",
    "print(\"El tipo de dato de my_integer es: \", type(my_integer))"
   ]
  },
  {
   "cell_type": "code",
   "execution_count": 4,
   "id": "fcaa9f89",
   "metadata": {},
   "outputs": [
    {
     "name": "stdout",
     "output_type": "stream",
     "text": [
      "El valor de my_integer es:  2022\n",
      "El tipo de dato de my_integer es:  <class 'int'>\n"
     ]
    }
   ],
   "source": [
    "my_integer = 2022\n",
    "print(\"El valor de my_integer es: \", my_integer)\n",
    "print(\"El tipo de dato de my_integer es: \", type(my_integer))"
   ]
  },
  {
   "cell_type": "code",
   "execution_count": 5,
   "id": "0d2ddeee",
   "metadata": {},
   "outputs": [
    {
     "name": "stdout",
     "output_type": "stream",
     "text": [
      "El valor de my_integer es:  57831\n",
      "El tipo de dato de my_integer es:  <class 'int'>\n"
     ]
    }
   ],
   "source": [
    "my_integer = 57831\n",
    "print(\"El valor de my_integer es: \", my_integer)\n",
    "print(\"El tipo de dato de my_integer es: \", type(my_integer))"
   ]
  },
  {
   "cell_type": "code",
   "execution_count": 6,
   "id": "07160070",
   "metadata": {},
   "outputs": [
    {
     "ename": "SyntaxError",
     "evalue": "invalid syntax (245483173.py, line 2)",
     "output_type": "error",
     "traceback": [
      "\u001b[1;36m  File \u001b[1;32m\"C:\\Users\\Owner\\AppData\\Local\\Temp\\ipykernel_11352\\245483173.py\"\u001b[1;36m, line \u001b[1;32m2\u001b[0m\n\u001b[1;33m    my_integer = 57831d\u001b[0m\n\u001b[1;37m                      ^\u001b[0m\n\u001b[1;31mSyntaxError\u001b[0m\u001b[1;31m:\u001b[0m invalid syntax\n"
     ]
    }
   ],
   "source": [
    "# error en sintaxis por mezclar numeros enteros con las letras\n",
    "my_integer = 57831d\n",
    "print(\"El valor de my_integer es: \", my_integer)\n",
    "print(\"El tipo de dato de my_integer es: \", type(my_integer))"
   ]
  },
  {
   "cell_type": "code",
   "execution_count": 7,
   "id": "eaf1728f",
   "metadata": {},
   "outputs": [
    {
     "ename": "SyntaxError",
     "evalue": "invalid syntax (4083033030.py, line 2)",
     "output_type": "error",
     "traceback": [
      "\u001b[1;36m  File \u001b[1;32m\"C:\\Users\\Owner\\AppData\\Local\\Temp\\ipykernel_11352\\4083033030.py\"\u001b[1;36m, line \u001b[1;32m2\u001b[0m\n\u001b[1;33m    my_integer = 57831@\u001b[0m\n\u001b[1;37m                       ^\u001b[0m\n\u001b[1;31mSyntaxError\u001b[0m\u001b[1;31m:\u001b[0m invalid syntax\n"
     ]
    }
   ],
   "source": [
    "# error en sintaxis por mezclar numeros enteros con las caracteres especiales, en este caso una Arroba\n",
    "my_integer = 57831@\n",
    "print(\"El valor de my_integer es: \", my_integer)\n",
    "print(\"El tipo de dato de my_integer es: \", type(my_integer))"
   ]
  },
  {
   "cell_type": "markdown",
   "id": "aa7ae4a8",
   "metadata": {},
   "source": [
    "# float - Float/Numeros con Decimales"
   ]
  },
  {
   "cell_type": "code",
   "execution_count": 19,
   "id": "7a9f0610",
   "metadata": {},
   "outputs": [
    {
     "name": "stdout",
     "output_type": "stream",
     "text": [
      "El valor de my_float es:  11.1\n",
      "El tipo de dato de my_float es:  <class 'float'>\n"
     ]
    }
   ],
   "source": [
    "my_float = 11.1\n",
    "print (\"El valor de my_float es: \", my_float)\n",
    "print (\"El tipo de dato de my_float es: \", type(my_float))"
   ]
  },
  {
   "cell_type": "code",
   "execution_count": 9,
   "id": "af28ad44",
   "metadata": {},
   "outputs": [
    {
     "name": "stdout",
     "output_type": "stream",
     "text": [
      "El valor de my float es:  11.0\n",
      "El tipo de dato de my_float es:  <class 'float'>\n"
     ]
    }
   ],
   "source": [
    "my_float = 11.0\n",
    "print (\"El valor de my float es: \", my_float)\n",
    "print (\"El tipo de dato de my_float es: \", type(my_float))"
   ]
  },
  {
   "cell_type": "code",
   "execution_count": 10,
   "id": "95809de7",
   "metadata": {},
   "outputs": [
    {
     "ename": "SyntaxError",
     "evalue": "invalid syntax (2329048648.py, line 2)",
     "output_type": "error",
     "traceback": [
      "\u001b[1;36m  File \u001b[1;32m\"C:\\Users\\Owner\\AppData\\Local\\Temp\\ipykernel_11352\\2329048648.py\"\u001b[1;36m, line \u001b[1;32m2\u001b[0m\n\u001b[1;33m    my_float = 11.0h\u001b[0m\n\u001b[1;37m                   ^\u001b[0m\n\u001b[1;31mSyntaxError\u001b[0m\u001b[1;31m:\u001b[0m invalid syntax\n"
     ]
    }
   ],
   "source": [
    "# error de sintaxis, python no reconoce el caracter \n",
    "my_float = 11.0h\n",
    "print (\"El valor de my float es: \", my_float)\n",
    "print (\"El tipo de dato de my_float es: \", type(my_float))"
   ]
  },
  {
   "cell_type": "code",
   "execution_count": 11,
   "id": "d80fa1ab",
   "metadata": {},
   "outputs": [
    {
     "name": "stdout",
     "output_type": "stream",
     "text": [
      "El valor de my_float es:  2000.0\n",
      "El valor de my_float es:  <class 'float'>\n"
     ]
    }
   ],
   "source": [
    "# Notacion Cientifica\n",
    "# El uso de un asterisco  (* ) es multiplicacion y dos asteriscos (**) es elevar a una potencia\n",
    "my_float = 2e3   #esto es igual a escribir: 2.0*10**3\n",
    "print (\"El valor de my_float es: \", my_float)\n",
    "print (\"El valor de my_float es: \", type(my_float))"
   ]
  },
  {
   "cell_type": "code",
   "execution_count": 12,
   "id": "888cc78e",
   "metadata": {},
   "outputs": [
    {
     "data": {
      "text/plain": [
       "1.1"
      ]
     },
     "execution_count": 12,
     "metadata": {},
     "output_type": "execute_result"
    }
   ],
   "source": [
    "1.1"
   ]
  },
  {
   "cell_type": "code",
   "execution_count": 13,
   "id": "86119478",
   "metadata": {},
   "outputs": [
    {
     "data": {
      "text/plain": [
       "1.1"
      ]
     },
     "execution_count": 13,
     "metadata": {},
     "output_type": "execute_result"
    }
   ],
   "source": [
    "1.1e0    #1.1 * 10**0  quiere decir 1.1 por 10 elevado a la \"cero\" "
   ]
  },
  {
   "cell_type": "code",
   "execution_count": 14,
   "id": "c12a9a0c",
   "metadata": {},
   "outputs": [
    {
     "data": {
      "text/plain": [
       "11.0"
      ]
     },
     "execution_count": 14,
     "metadata": {},
     "output_type": "execute_result"
    }
   ],
   "source": [
    "1.1e1   #1.1 * 10**1"
   ]
  },
  {
   "cell_type": "code",
   "execution_count": 15,
   "id": "4fe5884d",
   "metadata": {},
   "outputs": [
    {
     "data": {
      "text/plain": [
       "110.0"
      ]
     },
     "execution_count": 15,
     "metadata": {},
     "output_type": "execute_result"
    }
   ],
   "source": [
    "1.1e2   #1.1 * 10**2"
   ]
  },
  {
   "cell_type": "code",
   "execution_count": 16,
   "id": "2f8f1da3",
   "metadata": {},
   "outputs": [
    {
     "data": {
      "text/plain": [
       "1100.0"
      ]
     },
     "execution_count": 16,
     "metadata": {},
     "output_type": "execute_result"
    }
   ],
   "source": [
    "1.1e3   #1.1*10**3"
   ]
  },
  {
   "cell_type": "code",
   "execution_count": 17,
   "id": "84f9f4bc",
   "metadata": {},
   "outputs": [
    {
     "data": {
      "text/plain": [
       "0.08"
      ]
     },
     "execution_count": 17,
     "metadata": {},
     "output_type": "execute_result"
    }
   ],
   "source": [
    "#de igual forma podemos incluir potencias negativas ejemplo:\n",
    "8e-2     #8*10**-2    "
   ]
  },
  {
   "cell_type": "markdown",
   "id": "bf6b20e4",
   "metadata": {},
   "source": [
    "# complex - Complex/Complejos (Numeros con una parte real y una imaginaria)\n",
    "\n",
    "complex = x + yj\n",
    "\n",
    "x = parte real\n",
    "\n",
    "yj = parte imaginaria"
   ]
  },
  {
   "cell_type": "code",
   "execution_count": 18,
   "id": "f938d744",
   "metadata": {},
   "outputs": [
    {
     "name": "stdout",
     "output_type": "stream",
     "text": [
      "El valor de my_complex es:  (3+9j)\n",
      "El tipo de dato de my_complex es:  <class 'complex'>\n"
     ]
    }
   ],
   "source": [
    "my_complex = 3 + 9j\n",
    "print(\"El valor de my_complex es: \", my_complex)\n",
    "print(\"El tipo de dato de my_complex es: \", type(my_complex))"
   ]
  },
  {
   "cell_type": "code",
   "execution_count": 20,
   "id": "3fcfb2f1",
   "metadata": {},
   "outputs": [
    {
     "name": "stdout",
     "output_type": "stream",
     "text": [
      "El valor de my_complex es:  (2+5j)\n",
      "El tipo de dato de my_complex es:  <class 'complex'>\n"
     ]
    }
   ],
   "source": [
    "my_complex = 2 + 5j\n",
    "print(\"El valor de my_complex es: \", my_complex)\n",
    "print(\"El tipo de dato de my_complex es: \", type(my_complex))"
   ]
  },
  {
   "cell_type": "markdown",
   "id": "5c8badd0",
   "metadata": {},
   "source": [
    "# bool - Boolean (True/False) / Valores Logicos (Verdadero/Falso)\n",
    "NOTA: hay que escribir siempre la T o F segun sea True o False al inicio con Mayuscula para que el programa no envie codigos de error al estar ejecutando "
   ]
  },
  {
   "cell_type": "code",
   "execution_count": 21,
   "id": "2c910649",
   "metadata": {},
   "outputs": [
    {
     "name": "stdout",
     "output_type": "stream",
     "text": [
      "El valor de my_boolean es:  False\n",
      "El tipo de dato de my_boolean es:  <class 'bool'>\n"
     ]
    }
   ],
   "source": [
    "my_boolean = False\n",
    "print(\"El valor de my_boolean es: \", my_boolean)\n",
    "print(\"El tipo de dato de my_boolean es: \", type(my_boolean))"
   ]
  },
  {
   "cell_type": "code",
   "execution_count": 22,
   "id": "9afb2a21",
   "metadata": {},
   "outputs": [
    {
     "name": "stdout",
     "output_type": "stream",
     "text": [
      "El valor de my_boolean es:  True\n",
      "El tipo de dato de my_boolean es:  <class 'bool'>\n"
     ]
    }
   ],
   "source": [
    "my_boolean = True \n",
    "print(\"El valor de my_boolean es: \", my_boolean)\n",
    "print(\"El tipo de dato de my_boolean es: \", type(my_boolean))"
   ]
  },
  {
   "cell_type": "markdown",
   "id": "29e96d8b",
   "metadata": {},
   "source": [
    "# True se puede traducir como = 1\n",
    "# False se puede traducir como = 0"
   ]
  },
  {
   "cell_type": "code",
   "execution_count": 23,
   "id": "5bf504a0",
   "metadata": {},
   "outputs": [
    {
     "name": "stdout",
     "output_type": "stream",
     "text": [
      "3\n"
     ]
    }
   ],
   "source": [
    "# El True Python lo toma con Valor de 1 ejemplo:\n",
    "print(True+True+True) "
   ]
  },
  {
   "cell_type": "code",
   "execution_count": 24,
   "id": "55eb81e1",
   "metadata": {},
   "outputs": [
    {
     "name": "stdout",
     "output_type": "stream",
     "text": [
      "0\n"
     ]
    }
   ],
   "source": [
    "# Aqui False Python toma su valor como 0 cero\n",
    "print(False+False+False) "
   ]
  },
  {
   "cell_type": "code",
   "execution_count": 25,
   "id": "a67dbb2a",
   "metadata": {},
   "outputs": [
    {
     "name": "stdout",
     "output_type": "stream",
     "text": [
      "2\n"
     ]
    }
   ],
   "source": [
    "# Aqui seria un 2\n",
    "print(True+False+True) "
   ]
  },
  {
   "cell_type": "code",
   "execution_count": 26,
   "id": "216537aa",
   "metadata": {},
   "outputs": [
    {
     "name": "stdout",
     "output_type": "stream",
     "text": [
      "1\n"
     ]
    }
   ],
   "source": [
    "#Aqui tnemos un 1\n",
    "print(True-True+True)"
   ]
  },
  {
   "cell_type": "code",
   "execution_count": 27,
   "id": "4dc794ea",
   "metadata": {},
   "outputs": [
    {
     "name": "stdout",
     "output_type": "stream",
     "text": [
      "-2\n"
     ]
    }
   ],
   "source": [
    "#Ejemplo de -2\n",
    "print(False-True-True)"
   ]
  },
  {
   "cell_type": "markdown",
   "id": "935438ba",
   "metadata": {},
   "source": [
    "# str - Strings/Cadenas, Textos"
   ]
  },
  {
   "cell_type": "code",
   "execution_count": 28,
   "id": "1fb89e2c",
   "metadata": {},
   "outputs": [
    {
     "name": "stdout",
     "output_type": "stream",
     "text": [
      "El valor de my_string es:  Backend Python\n",
      "El tipo de dato de my_string es:  <class 'str'>\n"
     ]
    }
   ],
   "source": [
    "my_string =\"Backend Python\"\n",
    "print(\"El valor de my_string es: \",my_string)\n",
    "print(\"El tipo de dato de my_string es: \",type(my_string))"
   ]
  },
  {
   "cell_type": "code",
   "execution_count": 29,
   "id": "0ce27251",
   "metadata": {},
   "outputs": [
    {
     "name": "stdout",
     "output_type": "stream",
     "text": [
      "El valor de my_string es:  Aprendiendo a usar strings/cadenas/textos\n",
      "El tipo de dato de my_string es:  <class 'str'>\n"
     ]
    }
   ],
   "source": [
    "my_string = \"Aprendiendo a usar strings/cadenas/textos\"\n",
    "print(\"El valor de my_string es: \",my_string)\n",
    "print(\"El tipo de dato de my_string es: \",type(my_string))"
   ]
  },
  {
   "cell_type": "code",
   "execution_count": 30,
   "id": "e7127756",
   "metadata": {},
   "outputs": [
    {
     "name": "stdout",
     "output_type": "stream",
     "text": [
      "El valor de my_string es:  \n",
      "Es una cadena con multiples lineas\n",
      "\n",
      "Como puedes ver es genial para textos mas largos\n",
      "\n",
      "Puedes imaginar cuantas cosas podrias hacer manejando Texto de Internet???\n",
      "\n",
      "El tipo de dato de my_string es:  <class 'str'>\n"
     ]
    }
   ],
   "source": [
    "## Ejemplo del uso de comillas triples \"\"\" para asi incluir en una sola variable gran cantidad de texto o cadenas\n",
    "# aqui de igual forma se incluyen dos saltos de linea con antidiagonal + n    (\\n)\n",
    "my_string = \"\"\"\n",
    "Es una cadena con multiples lineas\\n\n",
    "Como puedes ver es genial para textos mas largos\\n\n",
    "Puedes imaginar cuantas cosas podrias hacer manejando Texto de Internet???\n",
    "\"\"\"\n",
    "print(\"El valor de my_string es: \",my_string)\n",
    "print(\"El tipo de dato de my_string es: \",type(my_string))"
   ]
  },
  {
   "cell_type": "markdown",
   "id": "8af0de5f",
   "metadata": {},
   "source": [
    "# Variables\n",
    "### Que es una Variable?\n",
    "- Son un espacio temporal para guardar un valor con un nombre especifico\n",
    "- No hay necesidad de declarar el tipo de dato explicitamente\n",
    "- Python es un lenguaje tipado dinamicamente, lo que quiere decir que el tipo de dato se define mientras corre el programa\n",
    "- Las Variables en Python funcionan diferente que en otros Lenguajes de Programacion\n",
    "- No necesitamos crear variable y darle valor sino que solo asignamos el nombre a un valor usando el operador de asigncion y nos referimos al signo igual ( = )\n",
    "\n",
    "### Tipos de Variables\n",
    "- Variables Globales: aquellas que se utilizaran para todo el programa\n",
    "- Variables Locales: aquellas que se van a utilizar solo en un bloque especifico del programa"
   ]
  },
  {
   "cell_type": "markdown",
   "id": "f50cb1e9",
   "metadata": {},
   "source": [
    "# Variables Globales\n",
    "- Declaramos variables globales afuera de funciones\n",
    "- El valor de la variable puede ser constante para todo el programa\n",
    "- Cualquier funcion podra acceder a estas variables\n",
    "- Podemos decir que las Variables Globales tienen un alcance global\n",
    "- Normalmente son mas usadas para constantes\n",
    "- Las Variables Globales mantienen sus valores a traves de la ejecucion completa de tu programa \n",
    "- Una Variable Global puede ser accesada por cualquier funcion "
   ]
  },
  {
   "cell_type": "code",
   "execution_count": 1,
   "id": "b71a9b1a",
   "metadata": {},
   "outputs": [],
   "source": [
    "# Variable Global\n",
    "my_global_variable=50\n",
    "\n",
    "def my_function_1():\n",
    "    pass\n",
    "\n",
    "def my_function_2():\n",
    "    pass"
   ]
  },
  {
   "cell_type": "code",
   "execution_count": 3,
   "id": "f9376d6f",
   "metadata": {},
   "outputs": [],
   "source": [
    "# ESTAS VRIABLES SON LOCALES YA QUE ESTAN DENTRO DE LA FUNCION, LAS GLOBALES SON LAS QUE SE ENCUENTRAN FUERA DE LA FUNCION\n",
    "def my_function_1():\n",
    "    my_local_variable=5\n",
    "\n",
    "def my_function_2():\n",
    "    my_local_variable=35"
   ]
  },
  {
   "cell_type": "code",
   "execution_count": 4,
   "id": "8a19e9f8",
   "metadata": {},
   "outputs": [],
   "source": [
    "# Variable Global\n",
    "my_global_variable=50\n",
    "\n",
    "def my_function_1():\n",
    "    print(\"my_function_1 - El valor de my_global_variable es: \", my_global_variable)\n",
    "\n",
    "def my_function_2():\n",
    "    print(\"my_function_2 - El valor de my_global_variable es: \", my_global_variable)"
   ]
  },
  {
   "cell_type": "code",
   "execution_count": 5,
   "id": "22d74df2",
   "metadata": {},
   "outputs": [
    {
     "name": "stdout",
     "output_type": "stream",
     "text": [
      "my_function_1 - El valor de my_global_variable es:  50\n"
     ]
    }
   ],
   "source": [
    "my_function_1()"
   ]
  },
  {
   "cell_type": "code",
   "execution_count": 6,
   "id": "90332e2a",
   "metadata": {},
   "outputs": [
    {
     "name": "stdout",
     "output_type": "stream",
     "text": [
      "my_function_2 - El valor de my_global_variable es:  50\n"
     ]
    }
   ],
   "source": [
    "my_function_2()"
   ]
  },
  {
   "cell_type": "code",
   "execution_count": 7,
   "id": "abe7b77f",
   "metadata": {},
   "outputs": [],
   "source": [
    "# QUE PASA SI MEZCLAMOS VARIABLES GLOBALES CON LOCALES??  Se le dara \"preferencia\" a la Variable Local\n",
    "my_variable=50 #Esta variable es GLOBAL pues esta FUERA de las funciones\n",
    "\n",
    "def my_function_1():\n",
    "    my_variable=10 #Esta variable es LOCAL pues se ubica DENTRO de nuestra Funcion \n",
    "    print(\"my_function_1 - El valor de  my_variable es: \",  my_variable)\n",
    "\n",
    "def my_function_2():\n",
    "    my_variable=20 #Misma forma es una variable LOCAL ubicada DENTRO de la Funcion\n",
    "    print(\"my_function_2 - El valor de my_variable es: \", my_variable)\n",
    "    \n",
    "def my_function_3():\n",
    "    print(\"my_function_3 - El valor de my_variable es: \",my_variable)"
   ]
  },
  {
   "cell_type": "code",
   "execution_count": 8,
   "id": "f80e437c",
   "metadata": {},
   "outputs": [
    {
     "name": "stdout",
     "output_type": "stream",
     "text": [
      "my_function_1 - El valor de  my_variable es:  10\n"
     ]
    }
   ],
   "source": [
    "my_function_1()  #asi mandamos llamar a las funciones con el nombre y parentesis que se abren y cierran"
   ]
  },
  {
   "cell_type": "code",
   "execution_count": 9,
   "id": "85e1504f",
   "metadata": {},
   "outputs": [
    {
     "name": "stdout",
     "output_type": "stream",
     "text": [
      "my_function_2 - El valor de my_variable es:  20\n"
     ]
    }
   ],
   "source": [
    "my_function_2()"
   ]
  },
  {
   "cell_type": "code",
   "execution_count": 10,
   "id": "8aab6621",
   "metadata": {},
   "outputs": [
    {
     "name": "stdout",
     "output_type": "stream",
     "text": [
      "my_function_3 - El valor de my_variable es:  50\n"
     ]
    }
   ],
   "source": [
    "my_function_3()"
   ]
  },
  {
   "cell_type": "markdown",
   "id": "0995e36f",
   "metadata": {},
   "source": [
    "# Variables Locales\n",
    "- Podemos usarlas dentro de una funcion\n",
    "- Podemos tener una restriccion al acceder a una variable local desde otra funcion\n",
    "- No podemos usarlas durante todo el programa\n",
    "- El alcance y visibilidad se limita al interior de la funcion\n",
    "- Lo que dure la funcion sera lo que dure el alcance de nuestra variable"
   ]
  },
  {
   "cell_type": "code",
   "execution_count": 11,
   "id": "95b53bbe",
   "metadata": {},
   "outputs": [],
   "source": [
    "# Variable Global\n",
    "my_global_variable=50\n",
    "\n",
    "def my_function_1():\n",
    "    pass\n",
    "\n",
    "def my_function_2():\n",
    "    pass"
   ]
  },
  {
   "cell_type": "code",
   "execution_count": 12,
   "id": "01da340f",
   "metadata": {},
   "outputs": [],
   "source": [
    "# Variables Locales\n",
    "def my_function_1():\n",
    "    my_local_variable=5\n",
    "\n",
    "def my_function_2():\n",
    "    my_local_variable=35"
   ]
  },
  {
   "cell_type": "code",
   "execution_count": 13,
   "id": "75693f62",
   "metadata": {},
   "outputs": [],
   "source": [
    "def my_function_1():\n",
    "    my_variable=10 #Esta variable es LOCAL pues se ubica DENTRO de nuestra Funcion \n",
    "    print(\"my_function_1 - El valor de  my_variable es: \",  my_variable)\n",
    "\n",
    "def my_function_2():\n",
    "    my_variable=20 #Misma forma es una variable LOCAL ubicada DENTRO de la Funcion\n",
    "    print(\"my_function_2 - El valor de my_variable es: \", my_variable)\n",
    "    \n",
    "def my_function_3():\n",
    "    print(\"my_function_3 - El valor de my_variable es: \",my_variable)"
   ]
  },
  {
   "cell_type": "code",
   "execution_count": 1,
   "id": "702b8b20",
   "metadata": {},
   "outputs": [
    {
     "ename": "NameError",
     "evalue": "name 'my_function_3' is not defined",
     "output_type": "error",
     "traceback": [
      "\u001b[1;31m---------------------------------------------------------------------------\u001b[0m",
      "\u001b[1;31mNameError\u001b[0m                                 Traceback (most recent call last)",
      "\u001b[1;32m~\\AppData\\Local\\Temp\\ipykernel_4424\\1817289190.py\u001b[0m in \u001b[0;36m<module>\u001b[1;34m\u001b[0m\n\u001b[0;32m      1\u001b[0m \u001b[1;31m# error\u001b[0m\u001b[1;33m\u001b[0m\u001b[1;33m\u001b[0m\u001b[0m\n\u001b[1;32m----> 2\u001b[1;33m \u001b[0mmy_function_3\u001b[0m\u001b[1;33m(\u001b[0m\u001b[1;33m)\u001b[0m\u001b[1;33m\u001b[0m\u001b[1;33m\u001b[0m\u001b[0m\n\u001b[0m",
      "\u001b[1;31mNameError\u001b[0m: name 'my_function_3' is not defined"
     ]
    }
   ],
   "source": [
    "# error\n",
    "my_function_3()"
   ]
  },
  {
   "cell_type": "markdown",
   "id": "183ec46a",
   "metadata": {},
   "source": [
    "# Palabra reservada \"global\""
   ]
  },
  {
   "cell_type": "code",
   "execution_count": 2,
   "id": "c35fba5a",
   "metadata": {},
   "outputs": [],
   "source": [
    "def my_function_1():\n",
    "    my_variable=10       #Esta variable es LOCAL pues se ubica DENTRO de nuestra Funcion \n",
    "    print(\"my_function_1 - El valor de  my_variable es: \",  my_variable)\n",
    "\n",
    "def my_function_2():\n",
    "    global my_variable\n",
    "    my_variable=20       #Esta funcion ya no es local ya que se definio Global gracias a la palabra reservada GLOBAL\n",
    "    print(\"my_function_2 - El valor de my_variable es: \", my_variable)\n",
    "    \n",
    "def my_function_3():\n",
    "    print(\"my_function_3 - El valor de my_variable es: \",my_variable)"
   ]
  },
  {
   "cell_type": "code",
   "execution_count": 3,
   "id": "4793e259",
   "metadata": {},
   "outputs": [
    {
     "name": "stdout",
     "output_type": "stream",
     "text": [
      "my_function_1 - El valor de  my_variable es:  10\n"
     ]
    }
   ],
   "source": [
    "my_function_1()"
   ]
  },
  {
   "cell_type": "code",
   "execution_count": 4,
   "id": "f48a3bb1",
   "metadata": {},
   "outputs": [
    {
     "name": "stdout",
     "output_type": "stream",
     "text": [
      "my_function_2 - El valor de my_variable es:  20\n"
     ]
    }
   ],
   "source": [
    "my_function_2()  #aqui al ejecutarlo no manda el error anterior ya que se definio GLOBAL "
   ]
  },
  {
   "cell_type": "code",
   "execution_count": 5,
   "id": "4333b744",
   "metadata": {},
   "outputs": [
    {
     "name": "stdout",
     "output_type": "stream",
     "text": [
      "my_function_3 - El valor de my_variable es:  20\n"
     ]
    }
   ],
   "source": [
    "my_function_3()"
   ]
  },
  {
   "cell_type": "code",
   "execution_count": 4,
   "id": "5b0998e0",
   "metadata": {},
   "outputs": [],
   "source": [
    "def my_function_2():\n",
    "    global a, b, c, d, e\n",
    "    a=10\n",
    "    b=20\n",
    "    c=30\n",
    "    d=40\n",
    "    e=50 \n",
    "    print(\"my_function_2 - El valor de a es: \", a)\n",
    "    print(\"my_function_2 - El valor de b es: \", b)\n",
    "    print(\"my_function_2 - El valor de c es: \", c)\n",
    "    print(\"my_function_2 - El valor de d es: \", d)\n",
    "    print(\"my_function_2 - El valor de e es: \", e)\n",
    "    \n",
    "def my_function_3():\n",
    "    print(\"my_function_3 - El valor de a es: \", a)\n",
    "    print(\"my_function_3 - El valor de b es: \", b)\n",
    "    print(\"my_function_3 - El valor de c es: \", c)\n",
    "    print(\"my_function_3-  El valor de d es: \", d)\n",
    "    print(\"my_function_3 - E3l valor de e es: \",e)"
   ]
  },
  {
   "cell_type": "code",
   "execution_count": 5,
   "id": "68a1bcab",
   "metadata": {},
   "outputs": [
    {
     "name": "stdout",
     "output_type": "stream",
     "text": [
      "my_function_2 - El valor de a es:  10\n",
      "my_function_2 - El valor de b es:  20\n",
      "my_function_2 - El valor de c es:  30\n",
      "my_function_2 - El valor de d es:  40\n",
      "my_function_2 - El valor de e es:  50\n"
     ]
    }
   ],
   "source": [
    "my_function_2()"
   ]
  },
  {
   "cell_type": "code",
   "execution_count": 6,
   "id": "e8b3d57f",
   "metadata": {},
   "outputs": [
    {
     "name": "stdout",
     "output_type": "stream",
     "text": [
      "my_function_3 - El valor de a es:  10\n",
      "my_function_3 - El valor de b es:  20\n",
      "my_function_3 - El valor de c es:  30\n",
      "my_function_3-  El valor de d es:  40\n",
      "my_function_3 - E3l valor de e es:  50\n"
     ]
    }
   ],
   "source": [
    "my_function_3()"
   ]
  },
  {
   "cell_type": "markdown",
   "id": "fff1f4e0",
   "metadata": {},
   "source": [
    "# Tipos de Enteros\n",
    "- Forma Decimal\n",
    "- Forma Binaria\n",
    "- Forma Octal\n",
    "- Forma Hexadecimal"
   ]
  },
  {
   "cell_type": "markdown",
   "id": "6cc9b529",
   "metadata": {},
   "source": [
    "# Forma Decimal"
   ]
  },
  {
   "cell_type": "code",
   "execution_count": 1,
   "id": "6e8ae7b8",
   "metadata": {},
   "outputs": [
    {
     "name": "stdout",
     "output_type": "stream",
     "text": [
      "El valor de my_decimal_number es:  55\n"
     ]
    }
   ],
   "source": [
    "my_decimal_number = 55\n",
    "print(\"El valor de my_decimal_number es: \", my_decimal_number)"
   ]
  },
  {
   "cell_type": "code",
   "execution_count": 2,
   "id": "c11847f6",
   "metadata": {},
   "outputs": [
    {
     "name": "stdout",
     "output_type": "stream",
     "text": [
      "El valor de my_decimal_number es:  512731625128341\n"
     ]
    }
   ],
   "source": [
    "my_decimal_number = 512731625128341\n",
    "print(\"El valor de my_decimal_number es: \", my_decimal_number)"
   ]
  },
  {
   "cell_type": "code",
   "execution_count": 3,
   "id": "63d5ad28",
   "metadata": {},
   "outputs": [
    {
     "ename": "SyntaxError",
     "evalue": "invalid syntax (1200981838.py, line 2)",
     "output_type": "error",
     "traceback": [
      "\u001b[1;36m  File \u001b[1;32m\"C:\\Users\\Owner\\AppData\\Local\\Temp\\ipykernel_6628\\1200981838.py\"\u001b[1;36m, line \u001b[1;32m2\u001b[0m\n\u001b[1;33m    my_decimal_number = 55d\u001b[0m\n\u001b[1;37m                          ^\u001b[0m\n\u001b[1;31mSyntaxError\u001b[0m\u001b[1;31m:\u001b[0m invalid syntax\n"
     ]
    }
   ],
   "source": [
    "# error\n",
    "my_decimal_number = 55d\n",
    "print(\"El valor de my_decimal_number es: \", my_decimal_number)"
   ]
  },
  {
   "cell_type": "code",
   "execution_count": 4,
   "id": "d2678562",
   "metadata": {},
   "outputs": [
    {
     "ename": "SyntaxError",
     "evalue": "invalid syntax (4233724529.py, line 1)",
     "output_type": "error",
     "traceback": [
      "\u001b[1;36m  File \u001b[1;32m\"C:\\Users\\Owner\\AppData\\Local\\Temp\\ipykernel_6628\\4233724529.py\"\u001b[1;36m, line \u001b[1;32m1\u001b[0m\n\u001b[1;33m    my_decimal_number = 55@\u001b[0m\n\u001b[1;37m                           ^\u001b[0m\n\u001b[1;31mSyntaxError\u001b[0m\u001b[1;31m:\u001b[0m invalid syntax\n"
     ]
    }
   ],
   "source": [
    "my_decimal_number = 55@\n",
    "print(\"El valor de my_decimal_number es: \", my_decimal_number)"
   ]
  },
  {
   "cell_type": "markdown",
   "id": "a1f455de",
   "metadata": {},
   "source": [
    "# Forma Binaria\n",
    "- Codigo organizado en bytes\n",
    "- Lenguaje Binario \n",
    "- Lenguaje las Maquinas compuesto por (1 y 0)\n",
    "\n",
    "### Aqui el valor base es: 2\n",
    "- Solamente acepta dos digitos (1 y 0)\n",
    "- Por ultimo se usa el prefijo '0b' o bien 0B' los dos aplican prefijo es que va antes del numero"
   ]
  },
  {
   "cell_type": "code",
   "execution_count": 1,
   "id": "826a2cfc",
   "metadata": {},
   "outputs": [
    {
     "name": "stdout",
     "output_type": "stream",
     "text": [
      "El valor de my_decimal_number es:  11\n"
     ]
    }
   ],
   "source": [
    "my_decimal_number = 11\n",
    "print(\"El valor de my_decimal_number es: \",my_decimal_number )"
   ]
  },
  {
   "cell_type": "code",
   "execution_count": 2,
   "id": "dc88ed22",
   "metadata": {},
   "outputs": [
    {
     "name": "stdout",
     "output_type": "stream",
     "text": [
      "El valor de my_binary_number es:  3\n"
     ]
    }
   ],
   "source": [
    "my_binary_number = 0b11       # 1*2**1   +   1*2**0\n",
    "print(\"El valor de my_binary_number es: \",my_binary_number )"
   ]
  },
  {
   "cell_type": "code",
   "execution_count": 3,
   "id": "f8df882e",
   "metadata": {},
   "outputs": [
    {
     "name": "stdout",
     "output_type": "stream",
     "text": [
      "El valor de my_decimal_number es:  111\n"
     ]
    }
   ],
   "source": [
    "my_decimal_number = 111\n",
    "print(\"El valor de my_decimal_number es: \",my_decimal_number )"
   ]
  },
  {
   "cell_type": "code",
   "execution_count": 4,
   "id": "7339d98a",
   "metadata": {},
   "outputs": [
    {
     "name": "stdout",
     "output_type": "stream",
     "text": [
      "El valor de my_binary_number es:  7\n"
     ]
    }
   ],
   "source": [
    "my_binary_number = 0B111       # 1*2**2   +   1*2**1   +   1*2**0\n",
    "print(\"El valor de my_binary_number es: \",my_binary_number )"
   ]
  },
  {
   "cell_type": "markdown",
   "id": "8f5d5bd8",
   "metadata": {},
   "source": [
    "# Forma Octal\n",
    "\n",
    "### El Valor base es 8\n",
    "- Solamente acepta digitos del 0 al 7\n",
    "- Se usa el prefijo '0o'   o tambien   '0O'    cero mas letra o minuscula o mayuscula"
   ]
  },
  {
   "cell_type": "code",
   "execution_count": 5,
   "id": "b712b15e",
   "metadata": {},
   "outputs": [
    {
     "name": "stdout",
     "output_type": "stream",
     "text": [
      "El valor de my_octal_number es:  15\n"
     ]
    }
   ],
   "source": [
    "my_octal_number = 0o17       # 1*8**1       +       7*8**0\n",
    "print(\"El valor de my_octal_number es: \",my_octal_number )"
   ]
  },
  {
   "cell_type": "code",
   "execution_count": 6,
   "id": "d1f5ab24",
   "metadata": {},
   "outputs": [
    {
     "name": "stdout",
     "output_type": "stream",
     "text": [
      "El valor de my_octal_number es:  107\n"
     ]
    }
   ],
   "source": [
    "my_octal_number = 0O153       # 1*8**2  +  3*8**0\n",
    "print(\"El valor de my_octal_number es: \",my_octal_number )"
   ]
  },
  {
   "cell_type": "code",
   "execution_count": 7,
   "id": "264f312c",
   "metadata": {},
   "outputs": [
    {
     "name": "stdout",
     "output_type": "stream",
     "text": [
      "El valor de my_decimal_number es:  153\n"
     ]
    }
   ],
   "source": [
    "my_decimal_number = 153\n",
    "print(\"El valor de my_decimal_number es: \",my_decimal_number )"
   ]
  },
  {
   "cell_type": "markdown",
   "id": "6e729faa",
   "metadata": {},
   "source": [
    "# Forma Hexadecimal\n",
    "\n",
    "### Valor Base:16\n",
    "- Acpta digitos del 0 al 9 pero tambien acepta letras de la 'a/A'   a la 'f/F'\n",
    "- Usamos el prefijo '0x'   o tambien '0x'\n",
    "\n",
    "-0\n",
    "-1\n",
    "-2\n",
    "-3\n",
    "-4\n",
    "-5\n",
    "-6\n",
    "-7\n",
    "-8\n",
    "-9\n",
    "-A = 10\n",
    "-B = 11\n",
    "-C = 12\n",
    "-D = 13\n",
    "-E = 14\n",
    "-F = 15\n",
    "\n"
   ]
  },
  {
   "cell_type": "code",
   "execution_count": 8,
   "id": "56679060",
   "metadata": {},
   "outputs": [
    {
     "name": "stdout",
     "output_type": "stream",
     "text": [
      "El valor de my_decimal_numbe es:  17\n"
     ]
    }
   ],
   "source": [
    "my_decimal_number = 17\n",
    "print(\"El valor de my_decimal_numbe es: \", my_decimal_number)"
   ]
  },
  {
   "cell_type": "code",
   "execution_count": 10,
   "id": "7b6ae18e",
   "metadata": {},
   "outputs": [
    {
     "name": "stdout",
     "output_type": "stream",
     "text": [
      "El valor de my_hex_number es:  23\n"
     ]
    }
   ],
   "source": [
    "my_hex_number = 0x17       # 1*16**1    +    7*16**0\n",
    "print(\"El valor de my_hex_number es: \", my_hex_number)"
   ]
  },
  {
   "cell_type": "code",
   "execution_count": 11,
   "id": "864010eb",
   "metadata": {},
   "outputs": [
    {
     "name": "stdout",
     "output_type": "stream",
     "text": [
      "El valor de my_hex_number es:  28\n"
     ]
    }
   ],
   "source": [
    "my_hex_number = 0x1C       # 1*16**1    +    12*16**0\n",
    "print(\"El valor de my_hex_number es: \", my_hex_number)"
   ]
  },
  {
   "cell_type": "code",
   "execution_count": null,
   "id": "bca74065",
   "metadata": {},
   "outputs": [],
   "source": []
  }
 ],
 "metadata": {
  "kernelspec": {
   "display_name": "Python 3 (ipykernel)",
   "language": "python",
   "name": "python3"
  },
  "language_info": {
   "codemirror_mode": {
    "name": "ipython",
    "version": 3
   },
   "file_extension": ".py",
   "mimetype": "text/x-python",
   "name": "python",
   "nbconvert_exporter": "python",
   "pygments_lexer": "ipython3",
   "version": "3.9.13"
  }
 },
 "nbformat": 4,
 "nbformat_minor": 5
}
