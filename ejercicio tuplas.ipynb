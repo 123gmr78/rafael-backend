{
 "cells": [
  {
   "cell_type": "code",
   "execution_count": 3,
   "id": "ae73aebb",
   "metadata": {},
   "outputs": [
    {
     "name": "stdout",
     "output_type": "stream",
     "text": [
      "Lista de Reproducción\n",
      "\n",
      "Ingresa la palabra que te gustaría\n",
      "Ejemplo: 'rock', y obtendrás un playlist de canciones o artistas que incluyan la palabra rock\n",
      "sur 16\n",
      "('En Dos', 'Sur 16')\n",
      "('Bellos Recuerdos', 'Sur 16')\n",
      "('Dime', 'Sur 16')\n",
      "('Pequeño Criminal', 'Sur 16')\n",
      "('Una Vez Más', 'Sur 16')\n",
      "('Otra Vez por Ti Estoy Llorando', 'Sur 16')\n",
      "('Despertar en Tu Piel', 'Sur 16')\n",
      "('Siénteme', 'Sur 16')\n",
      "('El Fantasma', 'Sur 16')\n",
      "('Con el Roce de Tu Piel', 'Sur 16')\n",
      "('Sin Ti', 'Sur 16')\n",
      "('Déjame por Favor', 'Sur 16')\n",
      "('Me Dijiste', 'Sur 16')\n",
      "('Cuando Vuelva el Invierno', 'Sur 16')\n",
      "('Una Vez Más', 'Sur 16')\n",
      "('Esa Noche No', 'Sur 16')\n",
      "('Me Mandaste A Volar', 'Sur 16')\n",
      "('Bien Sabes Tú', 'Sur 16')\n",
      "('A Veces', 'Sur 16')\n",
      "('Nena', 'Sur 16')\n",
      "('Ella O El', 'Sur 16')\n",
      "('Ángel Callejero', 'Sur 16')\n",
      "('Cuando Preguntan Por Ti', 'Sur 16')\n",
      "('Me Mandaste a Volar', 'Sur 16')\n",
      "('Ella Se Fue', 'Sur 16')\n"
     ]
    }
   ],
   "source": [
    "import requests \n",
    "\n",
    "print(\"Lista de Reproducción\\n\") \n",
    "\n",
    "# Referencia: https://www.deezer.com/en/channels/explore \n",
    "\n",
    "print(\"Ingresa la palabra que te gustaría\") \n",
    "\n",
    "print(\"Ejemplo: 'rock', y obtendrás un playlist de canciones o artistas que incluyan la palabra rock\") \n",
    "word_to_search = input() \n",
    "\n",
    "url = \"https://deezerdevs-deezer.p.rapidapi.com/search\" \n",
    "querystring = {\"q\":word_to_search} \n",
    "headers = {\n",
    "    \"X-RapidAPI-Key\": \"3ed98f551fmshe4e6260228c4eadp13db17jsn8c893e1194da\",    \n",
    "    \"X-RapidAPI-Host\": \"deezerdevs-deezer.p.rapidapi.com\" \n",
    "} \n",
    "response = requests.request(\"GET\", url, headers=headers, params=querystring).json() \n",
    "for element in response['data']:    \n",
    "    my_list = (element['title'], element['artist']['name'])\n",
    "    print(my_list)"
   ]
  }
 ],
 "metadata": {
  "kernelspec": {
   "display_name": "Python 3 (ipykernel)",
   "language": "python",
   "name": "python3"
  },
  "language_info": {
   "codemirror_mode": {
    "name": "ipython",
    "version": 3
   },
   "file_extension": ".py",
   "mimetype": "text/x-python",
   "name": "python",
   "nbconvert_exporter": "python",
   "pygments_lexer": "ipython3",
   "version": "3.9.13"
  }
 },
 "nbformat": 4,
 "nbformat_minor": 5
}
