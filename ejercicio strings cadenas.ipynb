{
 "cells": [
  {
   "cell_type": "code",
   "execution_count": 3,
   "id": "b129ccd6",
   "metadata": {},
   "outputs": [
    {
     "name": "stdout",
     "output_type": "stream",
     "text": [
      "Ingresa el score: -7\n",
      "Analizador de sentimientos\n",
      "\n",
      "negativo: Este es un producto defectuoso, malo, horrible, pesimo\n",
      "score: -7.0\n",
      "result: Negativo\n"
     ]
    }
   ],
   "source": [
    "\"\"\"\n",
    "Para dicho programa (Analizador de Sentimientos), realice las siguientes modificaciones:\n",
    "\n",
    "1.- modifique para la variable  \"my_string\" que aplica para Positivo, Negativo\n",
    "y Neutro.\n",
    "2.- realice lo solicitado en la actividad que es agregar Ejemplos para: Positivo, Negativo y Neutro\n",
    "3.- al ingresar el SCORE ya sea numero positivo, negativo o Cero, este nos envia el resultado del analisis \n",
    "de producto\n",
    "\n",
    "\"\"\"\n",
    "\"\"\" Instrucciones de Ejecucion: ingresar el SCORE puede ser cualquier numero: positivo, negativo o el propio Cero de\n",
    "esta forma el programa analizara el producto y emitira el resultado de dicho analisis \n",
    "\"\"\"\n",
    "\n",
    "positivo = \"Este es un producto bueno, excelente, maravilloso, agradable\"\n",
    "\n",
    "negativo = \"Este es un producto defectuoso, malo, horrible, pesimo\"\n",
    "\n",
    "neutro = \"Este es un producto indiferente, regular, interesante, equilibrado\"\n",
    "\n",
    "positive_words = [\"bueno\", \"excelente\", \"maravilloso, agradable\"]\n",
    "neutro_words = [\"indiferente\",  \"interesante\", \"regular, equilibrado\"]\n",
    "negative_words = [\"defectuoso\", \"malo\", \"horrible, pesimo\"]\n",
    "\n",
    "score = 0\n",
    "score = float(input(\"Ingresa el score: \"))\n",
    "\n",
    "for positive_words in positive_words:\n",
    "    score = score + positivo.count(\"positive_words\")\n",
    "for neutro_words in neutro_words:\n",
    "    score = score - neutro.count(\"neutro_words\")\n",
    "for negative_words in negative_words:\n",
    "    score = score - negativo.count(\"negative_words\")\n",
    "\n",
    "if score > 0:\n",
    "    result = \"Positivo\"\n",
    "    print(\"Analizador de sentimientos\\n\")\n",
    "\n",
    "    print(\"positivo: {}\\nscore: {}\\nresult: {}\".format(positivo, score, result))\n",
    "elif score == 0:\n",
    "    result = \"Neutro\"\n",
    "    print(\"Analizador de sentimientos\\n\")\n",
    "\n",
    "    print(\"neutro: {}\\nscore: {}\\nresult: {}\".format(neutro, score, result))\n",
    "elif score < 0:\n",
    "    result = \"Negativo\"\n",
    "\n",
    "    print(\"Analizador de sentimientos\\n\")\n",
    "\n",
    "    print(\"negativo: {}\\nscore: {}\\nresult: {}\".format(negativo, score, result))\n",
    "else:\n",
    "    print(\"fin del programa\")\n",
    "\n",
    "   \n"
   ]
  }
 ],
 "metadata": {
  "kernelspec": {
   "display_name": "Python 3 (ipykernel)",
   "language": "python",
   "name": "python3"
  },
  "language_info": {
   "codemirror_mode": {
    "name": "ipython",
    "version": 3
   },
   "file_extension": ".py",
   "mimetype": "text/x-python",
   "name": "python",
   "nbconvert_exporter": "python",
   "pygments_lexer": "ipython3",
   "version": "3.9.13"
  }
 },
 "nbformat": 4,
 "nbformat_minor": 5
}
