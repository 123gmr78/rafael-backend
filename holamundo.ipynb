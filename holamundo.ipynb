{
 "cells": [
  {
   "cell_type": "markdown",
   "id": "d2955b76",
   "metadata": {},
   "source": [
    "# Este es mi primer programa en Python "
   ]
  },
  {
   "cell_type": "code",
   "execution_count": 1,
   "id": "4c987494",
   "metadata": {},
   "outputs": [
    {
     "name": "stdout",
     "output_type": "stream",
     "text": [
      "Hola Mundo...!!!\n"
     ]
    }
   ],
   "source": [
    "print (\"Hola Mundo...!!!\")"
   ]
  },
  {
   "cell_type": "code",
   "execution_count": 2,
   "id": "b241b50d",
   "metadata": {},
   "outputs": [
    {
     "name": "stdout",
     "output_type": "stream",
     "text": [
      "Hello World...!!!\n"
     ]
    }
   ],
   "source": [
    "print (\"Hello World...!!!\")"
   ]
  },
  {
   "cell_type": "code",
   "execution_count": 3,
   "id": "b5db6fe0",
   "metadata": {},
   "outputs": [
    {
     "name": "stdout",
     "output_type": "stream",
     "text": [
      "Hola me llamo Rafael Angulo...!!!\n"
     ]
    }
   ],
   "source": [
    "print (\"Hola me llamo Rafael Angulo...!!!\")"
   ]
  },
  {
   "cell_type": "code",
   "execution_count": 4,
   "id": "d6e85cdc",
   "metadata": {},
   "outputs": [
    {
     "name": "stdout",
     "output_type": "stream",
     "text": [
      "Me gusta el curso de Backend Python en EBAC..!\n"
     ]
    }
   ],
   "source": [
    "print (\"Me gusta el curso de Backend Python en EBAC..!\")"
   ]
  },
  {
   "cell_type": "code",
   "execution_count": 5,
   "id": "83dbedd2",
   "metadata": {},
   "outputs": [
    {
     "name": "stdout",
     "output_type": "stream",
     "text": [
      "Mi Profesor es Carlos Avila...!!!\n"
     ]
    }
   ],
   "source": [
    "print (\"Mi Profesor es Carlos Avila...!!!\")"
   ]
  },
  {
   "cell_type": "code",
   "execution_count": null,
   "id": "4be453e4",
   "metadata": {},
   "outputs": [],
   "source": []
  }
 ],
 "metadata": {
  "kernelspec": {
   "display_name": "Python 3 (ipykernel)",
   "language": "python",
   "name": "python3"
  },
  "language_info": {
   "codemirror_mode": {
    "name": "ipython",
    "version": 3
   },
   "file_extension": ".py",
   "mimetype": "text/x-python",
   "name": "python",
   "nbconvert_exporter": "python",
   "pygments_lexer": "ipython3",
   "version": "3.9.13"
  }
 },
 "nbformat": 4,
 "nbformat_minor": 5
}
