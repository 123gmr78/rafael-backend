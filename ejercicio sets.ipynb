{
 "cells": [
  {
   "cell_type": "code",
   "execution_count": 8,
   "id": "3ee9ca75",
   "metadata": {},
   "outputs": [
    {
     "name": "stdout",
     "output_type": "stream",
     "text": [
      "{'22C2', 'B2B2', '22B2', '9AA9', 'BB8B', 'A1A1', 'A44A', '999B', '6A6A', '5B5B', 'D11D', '000C', '5A5A', 'DDD8', '6CC6', 'CCC0', '9C9C', '11D1', '44C4', '66B6', '555A', '66C6', '0A0A', '1CC1', 'BB9B', '666A', 'BBB4', '88D8', 'DDD0', '8BB8', 'C1C1', '9DD9', 'A8A8', 'AAA2', '9CC9', '111A', 'CCC5', 'B88B', '4BB4', '77A7', '666B', '777B', '88C8', 'BBB1', '2DD2', 'D00D', '999A', 'C2C2', '2C2C', '77D7', '11C1', '7AA7', '00C0', '2AA2', 'A11A', 'D88D', 'C00C', '1C1C', 'D8D8', 'A7A7', '5D5D', 'A3A3', '222A', 'CC5C', 'CCC6', '1B1B', '6D6D', '0AA0', 'A2A2', '3D3D', 'C9C9', '8D8D', 'A9A9', '888D', '5DD5', 'AA9A', 'A77A', 'CC4C', 'AA2A', '77B7', '7D7D', 'AA7A', '3CC3', '444A', 'CC6C', '55C5', '8C8C', '3BB3', 'B3B3', '4A4A', '4DD4', 'A66A', '11B1', 'AA8A', 'B6B6', 'C99C', 'BB3B', 'BB1B', 'BBB8', 'B7B7', 'DD3D', '7C7C', '0DD0', '777A', '666C', '33B3', 'BB4B', 'C11C', '99B9', 'CC9C', 'A55A', 'AAA7', '11A1', 'CC3C', '00A0', 'BBB7', 'B22B', '444D', '555B', '33C3', 'C7C7', '7CC7', 'D99D', 'D0D0', '00D0', '6AA6', '1D1D', '0C0C', '3C3C', 'D2D2', 'BBB9', 'DD2D', 'AA3A', '5AA5', '55A5', 'AAA3', 'A5A5', 'A33A', '22A2', '22D2', '0D0D', 'D77D', 'AAA6', '55B5', '111D', 'D33D', '0BB0', 'BB0B', '55D5', '888A', 'AAA8', '6C6C', 'D55D', '888B', '3DD3', 'C5C5', '777D', 'D4D4', 'DD7D', 'BBB6', '4AA4', 'B33B', '88A8', '9BB9', '7BB7', '9B9B', 'AA4A', '6B6B', 'A6A6', '8B8B', 'BB5B', 'DDD4', '5BB5', 'DDD2', 'D22D', 'AA5A', 'B00B', 'B55B', 'AA1A', '7B7B', 'CC2C', 'CCC4', 'CC7C', 'B77B', '0CC0', '0B0B', 'C6C6', '8A8A', 'B99B', 'BBB0', '888C', 'C44C', 'C22C', 'DDD1', '8DD8', '33A3', '99D9', 'C8C8', '000B', '3AA3', 'AAA4', '2B2B', '222B', '333A', 'CC0C', '333C', '44A4', 'CC8C', 'BBB2', '3B3B', 'AA0A', 'BB6B', 'DD9D', '222C', 'CCC9', 'AAA9', '44B4', '4D4D', 'C66C', 'B1B1', 'BB7B', 'CCC7', 'B4B4', 'DD8D', 'A0A0', 'DD1D', 'D9D9', '66A6', '111B', 'A00A', 'CCC2', 'D5D5', '2CC2', '33D3', 'CC1C', 'BB2B', '111C', 'D44D', '222D', '444C', '77C7', 'DDD9', '88B8', '333B', 'D7D7', 'D6D6', 'C4C4', '666D', 'CCC1', 'D66D', 'BBB5', '1A1A', '1BB1', '3A3A', 'B9B9', 'CCC3', 'A99A', 'BBB3', 'A4A4', '5C5C', 'D3D3', 'DD4D', '999C', 'AA6A', '99A9', '8AA8', 'C88C', '7DD7', 'AAA5', '4C4C', '99C9', 'CCC8', 'DDD6', 'AAA1', '6DD6', 'DD0D', 'C77C', 'DDD5', '1DD1', 'C33C', '9D9D', 'DD6D', '7A7A', '555D', '999D', 'DD5D', '1AA1', '44D4', '2A2A', '8CC8', 'AAA0', '333D', '9A9A', 'B8B8', '2BB2', '555C', 'DDD3', 'C0C0', '5CC5', 'B11B', 'A88A', 'B5B5', '4B4B', 'D1D1', 'C55C', '777C', 'DDD7', 'B66B', 'C3C3', 'B44B', 'A22A', '66D6', '00B0', '000A', 'B0B0', '000D', '4CC4', '444B', '2D2D', '6BB6'}\n"
     ]
    }
   ],
   "source": [
    "numbers = ['0', '1', '2', '3', '4', '5', '6', '7', '8', '9']\n",
    "letters = ['A', 'B', 'C', 'D']\n",
    "unique_combinations = set() \n",
    "for number in numbers:    \n",
    "    for letter in letters:        \n",
    "        unique_combinations.add(\"{}{}{}{}\".format(number,number,number,letter))        \n",
    "        unique_combinations.add(\"{}{}{}{}\".format(number,number,letter,number))        \n",
    "        unique_combinations.add(\"{}{}{}{}\".format(number,letter,number,letter))        \n",
    "        unique_combinations.add(\"{}{}{}{}\".format(number,letter,letter,number))        \n",
    "        unique_combinations.add(\"{}{}{}{}\".format(letter,number,number,letter))        \n",
    "        unique_combinations.add(\"{}{}{}{}\".format(letter,letter,number,letter))        \n",
    "        unique_combinations.add(\"{}{}{}{}\".format(letter,number,letter,number))        \n",
    "        unique_combinations.add(\"{}{}{}{}\".format(letter,letter,letter,number))\n",
    "        \n",
    "print(unique_combinations)"
   ]
  }
 ],
 "metadata": {
  "kernelspec": {
   "display_name": "Python 3 (ipykernel)",
   "language": "python",
   "name": "python3"
  },
  "language_info": {
   "codemirror_mode": {
    "name": "ipython",
    "version": 3
   },
   "file_extension": ".py",
   "mimetype": "text/x-python",
   "name": "python",
   "nbconvert_exporter": "python",
   "pygments_lexer": "ipython3",
   "version": "3.9.13"
  }
 },
 "nbformat": 4,
 "nbformat_minor": 5
}
