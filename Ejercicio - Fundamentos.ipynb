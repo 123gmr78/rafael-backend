{
 "cells": [
  {
   "cell_type": "markdown",
   "id": "6f021a66",
   "metadata": {},
   "source": [
    "## Este programa es para solicitar a un alumno, tres puntos:\n",
    "\n",
    "### 1.- su nombre\n",
    "### 2.- numero de lista\n",
    "### 3.- calificacion obtenida incluyendo decimales, ejemplo: 10.0, 8.0, 5.0"
   ]
  },
  {
   "cell_type": "code",
   "execution_count": 1,
   "id": "a35e348d",
   "metadata": {},
   "outputs": [
    {
     "name": "stdout",
     "output_type": "stream",
     "text": [
      "Hola ingrese nombre del alumno: rafael angulo\n",
      "rafael angulo\n",
      "<class 'str'>\n",
      "ingrese el numero de lista: 1\n",
      "1\n",
      "<class 'int'>\n",
      "ingrese su calificacion obtenida incluya los decimales: 10.0\n",
      "10.0\n",
      "<class 'float'>\n"
     ]
    }
   ],
   "source": [
    "num1 = str(input(\"Hola ingrese nombre del alumno: \"))\n",
    "print(num1)\n",
    "print(type(num1))\n",
    "\n",
    "num2 = int(input(\"ingrese el numero de lista: \"))\n",
    "print(num2)\n",
    "print(type(num2))\n",
    "\n",
    "num3 = float(input(\"ingrese su calificacion obtenida incluya los decimales: \"))\n",
    "print(num3)\n",
    "print(type(num3))"
   ]
  },
  {
   "cell_type": "code",
   "execution_count": null,
   "id": "6a3ece6a",
   "metadata": {},
   "outputs": [],
   "source": []
  }
 ],
 "metadata": {
  "kernelspec": {
   "display_name": "Python 3 (ipykernel)",
   "language": "python",
   "name": "python3"
  },
  "language_info": {
   "codemirror_mode": {
    "name": "ipython",
    "version": 3
   },
   "file_extension": ".py",
   "mimetype": "text/x-python",
   "name": "python",
   "nbconvert_exporter": "python",
   "pygments_lexer": "ipython3",
   "version": "3.9.13"
  }
 },
 "nbformat": 4,
 "nbformat_minor": 5
}
